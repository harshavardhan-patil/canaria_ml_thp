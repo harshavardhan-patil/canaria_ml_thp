{
 "cells": [
  {
   "cell_type": "code",
   "execution_count": 1,
   "id": "4d877bf6",
   "metadata": {},
   "outputs": [
    {
     "name": "stderr",
     "output_type": "stream",
     "text": [
      "\u001b[32m2025-04-19 05:08:18.564\u001b[0m | \u001b[1mINFO    \u001b[0m | \u001b[36msrc.config\u001b[0m:\u001b[36m<module>\u001b[0m:\u001b[36m11\u001b[0m - \u001b[1mPROJ_ROOT path is: /home/harshavardhan-patil/Work/Projects/canaria/canaria_ml_thp\u001b[0m\n"
     ]
    },
    {
     "name": "stderr",
     "output_type": "stream",
     "text": [
      "/home/harshavardhan-patil/Work/Projects/canaria/canaria_ml_thp/.venv/lib/python3.12/site-packages/tqdm/auto.py:21: TqdmWarning: IProgress not found. Please update jupyter and ipywidgets. See https://ipywidgets.readthedocs.io/en/stable/user_install.html\n",
      "  from .autonotebook import tqdm as notebook_tqdm\n"
     ]
    },
    {
     "data": {
      "text/plain": [
       "True"
      ]
     },
     "execution_count": 1,
     "metadata": {},
     "output_type": "execute_result"
    }
   ],
   "source": [
    "from src.vector_search import VectorSearch\n",
    "import argparse\n",
    "import logging\n",
    "import os\n",
    "from typing import List, Tuple\n",
    "import pandas as pd\n",
    "import numpy as np\n",
    "from dotenv import load_dotenv\n",
    "from src.data.db import get_connection, release_connection\n",
    "from src.config import DATA_DIR\n",
    "\n",
    "load_dotenv()"
   ]
  },
  {
   "cell_type": "markdown",
   "id": "fad6905f",
   "metadata": {},
   "source": [
    "## Transitivity Analysis\n",
    "1. Transitivity measures how consistently your system identifies duplicates across the entire dataset, not just in isolated pairs.\n",
    "2. Transitivity is a fundamental property of well-behaved similarity measures. In a proper vector space, if A is similar to B and B is similar to C, then A should be similar to C. This makes it mathematically sound.\n",
    "3. We are measuring how many triplets maintain the transitive property out of all available triplets\n",
    "\n",
    "We get a transitivity score of 88.39 % at 0.95 threshold. This score suggests that 0.95 strikes a good balance - not too strict (which would yield very high transitivity but miss many duplicates) nor too lenient (which would capture more duplicates but have poor transitivity).\n",
    "\n",
    "### Drawback\n",
    "Transitivity, by definition, needs triplets, which means we are missing analysis on jobs that were found only twice."
   ]
  },
  {
   "cell_type": "code",
   "execution_count": 12,
   "id": "c952f729",
   "metadata": {},
   "outputs": [
    {
     "name": "stdout",
     "output_type": "stream",
     "text": [
      "Found 5828 total clusters with 14923 jobs\n",
      "Of these, 1467 clusters have 3+ jobs and can be checked for transitivity\n",
      "Processed 100/1467 clusters...\n",
      "Processed 200/1467 clusters...\n",
      "Processed 300/1467 clusters...\n",
      "Processed 400/1467 clusters...\n",
      "Processed 500/1467 clusters...\n",
      "Processed 600/1467 clusters...\n",
      "Processed 700/1467 clusters...\n",
      "Processed 800/1467 clusters...\n",
      "Processed 900/1467 clusters...\n",
      "Processed 1000/1467 clusters...\n",
      "Processed 1100/1467 clusters...\n",
      "Processed 1200/1467 clusters...\n",
      "Processed 1300/1467 clusters...\n",
      "Processed 1400/1467 clusters...\n",
      "Transitivity score: 0.8839\n",
      "Transitive triplets: 49308/55786\n"
     ]
    }
   ],
   "source": [
    "import networkx as nx\n",
    "import random\n",
    "\n",
    "threshold = 0.95\n",
    "sample_size = None\n",
    "\n",
    "conn = None\n",
    "try:\n",
    "    # Connect to database\n",
    "    conn = get_connection()\n",
    "    cursor = conn.cursor()\n",
    "    \n",
    "    # Get duplicate pairs\n",
    "    cursor.execute(\"\"\"\n",
    "        SELECT lid1, lid2, similarity_score \n",
    "        FROM job_duplicates \n",
    "    \"\"\")\n",
    "    \n",
    "    duplicate_pairs = cursor.fetchall()\n",
    "    \n",
    "    # Build a graph of job relationships\n",
    "    G = nx.Graph()\n",
    "    \n",
    "    for lid1, lid2, similarity in duplicate_pairs:\n",
    "        G.add_edge(lid1, lid2, weight=similarity)\n",
    "    \n",
    "    # Find all connected components (clusters of similar jobs)\n",
    "    clusters = list(nx.connected_components(G))\n",
    "    valid_clusters = [c for c in clusters if len(c) >= 3]\n",
    "    \n",
    "    print(f\"Found {len(clusters)} total clusters with {sum(len(c) for c in clusters)} jobs\")\n",
    "    print(f\"Of these, {len(valid_clusters)} clusters have 3+ jobs and can be checked for transitivity\")\n",
    "    \n",
    "    total_triplets = 0\n",
    "    transitive_triplets = 0\n",
    "    transitivity_violations = []\n",
    "    \n",
    "    # Check transitivity for all valid clusters\n",
    "    for cluster_idx, cluster in enumerate(valid_clusters):\n",
    "        jobs = list(cluster)\n",
    "        \n",
    "        # Generate all possible triplets\n",
    "        for i in range(len(jobs)):\n",
    "            for j in range(i+1, len(jobs)):\n",
    "                for k in range(j+1, len(jobs)):\n",
    "                    job_a, job_b, job_c = jobs[i], jobs[j], jobs[k]\n",
    "                    total_triplets += 1\n",
    "                    \n",
    "                    # Check if all three pairs exist in the graph\n",
    "                    ab_exists = G.has_edge(job_a, job_b)\n",
    "                    bc_exists = G.has_edge(job_b, job_c)\n",
    "                    ac_exists = G.has_edge(job_a, job_c)\n",
    "                    \n",
    "                    # If all direct connections exist, transitivity holds\n",
    "                    if ab_exists and bc_exists and ac_exists:\n",
    "                        transitive_triplets += 1\n",
    "                    else:\n",
    "                        # Record violation details (limit to 100 for memory efficiency)\n",
    "                        if len(transitivity_violations) < 100:\n",
    "                            ab_sim = G.get_edge_data(job_a, job_b)['weight'] if ab_exists else 0\n",
    "                            bc_sim = G.get_edge_data(job_b, job_c)['weight'] if bc_exists else 0\n",
    "                            ac_sim = G.get_edge_data(job_a, job_c)['weight'] if ac_exists else 0\n",
    "                            \n",
    "                            transitivity_violations.append({\n",
    "                                'job_a': job_a,\n",
    "                                'job_b': job_b,\n",
    "                                'job_c': job_c,\n",
    "                                'ab_similarity': ab_sim,\n",
    "                                'bc_similarity': bc_sim, \n",
    "                                'ac_similarity': ac_sim\n",
    "                            })\n",
    "        \n",
    "        # Print progress every 100 clusters\n",
    "        if cluster_idx % 100 == 0 and cluster_idx > 0:\n",
    "            print(f\"Processed {cluster_idx}/{len(valid_clusters)} clusters...\")\n",
    "    \n",
    "    # Calculate transitivity score\n",
    "    transitivity_score = transitive_triplets / max(1, total_triplets)\n",
    "    \n",
    "    print(f\"Transitivity score: {transitivity_score:.4f}\")\n",
    "    print(f\"Transitive triplets: {transitive_triplets}/{total_triplets}\")\n",
    "    \n",
    "except Exception as e:\n",
    "    print(f\"Error calculating transitivity score: {e}\")\n",
    "    raise\n",
    "finally:\n",
    "    if conn:\n",
    "        release_connection(conn)\n"
   ]
  },
  {
   "cell_type": "markdown",
   "id": "a55dd0ad",
   "metadata": {},
   "source": [
    "## Supplementary Empirical Analysis\n",
    "I also analyzed the least confident (lowest similarity score) pairs identified across different approaches and thresholds. This gives us a better look at *where* our system is failing"
   ]
  },
  {
   "cell_type": "markdown",
   "id": "2d2938e5",
   "metadata": {},
   "source": [
    "### Incorrect Duplicate example 1\n",
    "1. With location filtering (including NULL)\n",
    "2. Similarity search on combined string of Job title, Company Name, Job Descriptions\n",
    "3. Threshold: 0.824\n",
    "\n",
    "Too permissive! This approach allowed 2 different job titles to be identified as duplicates. Since job description dominated the embedding, difference in job title was ignored."
   ]
  },
  {
   "cell_type": "code",
   "execution_count": 6,
   "id": "6e3f65d6",
   "metadata": {},
   "outputs": [
    {
     "data": {
      "text/plain": [
       "[('pt service associate',\n",
       "  '19464',\n",
       "  \"Address: USA-PA-Stowe-180 Upland Square Drive \\n Store Code: GC - Store Mgrs (2600291) \\n \\n At The GIANT Company we're committed to making our stores and facilities better every day for our team members, customers, and communities. It's our secret recipe for success and it guides everything we do. We put our customers first, do what's right, win together, and make ideas happen. As a team member here, that's exactly what you'll help us do. You'll share your ideas, learn new skills, and really make a difference for not only your team, but for your customers and your community. \\n \\n PRIMARY PURPOSE \\n \\n The primary purpose of this job is to bag items at checkout, put bags into carts, restock returns, retrieve carts from the parking lot, vacuum front-end, restock coolers, and collect trash. \\n At The GIANT Company, we are passionate about building strong families and healthy communities, serving millions of neighbors across Pennsylvania, Maryland, Virginia, West Virginia, and New Jersey. We are committed to being an inclusive place to work and shop. Our shared values of care, courage, integrity, teamwork, and humor guide our work as we embrace the unique talents and differences of every team member. We also take pride in connecting families for a better future. If you're ready for a purposeful career, join our GIANT family. You'll help us make a difference while making some great connections and friendships along the way. \\n \\n DUTIES AND RESPONSIBILITIES \\n \\n * Promptly, at the start of the shift, the employee will review the work schedule, check the equipment and supplies required to perform the work scheduled, comply with Personal Protective Equipment (PPE) requirements, and otherwise prepare for duties. \\n * Collect trash, take trash to compactor, and operate the compactor. \\n * Perform housekeeping duties, keep floors clean, keep work areas clean, and perform clean sweep every hour. \\n * Collect carts, stack carts, and push carts back to the front-end of the store. \\n * Demonstrate good customer service skills. \\n * Complete other duties as assigned by management. \\n \\n QUALIFICATIONS \\n \\n * Must be authorized to work in the U.S. \\n * Must be able to communicate and understand company policies and safety regulations in order to complete job duties in a satisfactory manner. \\n * Must meet the ergonomic and physical requirements, as well as the physical base scores for this position, with or without reasonable accommodation. \\n * Must be able to use, or learn to use, the equipment and tools used to perform this job. \\n * Must meet the company performance standards for the job including but not limited to regular attendance. \\n * Must complete the company introductory (probationary) period of 30 or 60 days. \\n * Must be able to perform all job functions safely. \\n * Must meet the company performance standards for the job. \\n * Must agree to wear the proper assigned clothes and shoes approved for this job. \\n * Must have and maintain valid specialty licenses, certificates, or permits required for the position. \\n \\n PHYSICAL REQUIREMENTS \\n \\n * Shift hours: minimum 4-hour shifts or more depending upon business needs \\n * Job cycles: continual max \\n * Lift/carry: 50 lbs. \\n * Stand 55%, sit 0%, walk 45% \\n * Category IV: lifting, carrying, P/P up to 50 lbs. \\n * Max pull static: 20 lbs. \\n \\n PREFERRED REQUIREMENTS \\n \\n * Team members are responsible for understanding company policy and procedures as promulgated in the policy and procedure manual and the team member handbook. \\n \\n The GIANT Company is an equal opportunity employer. We comply with all applicable federal, state, and local laws. Qualified applicants are considered without regard to sex, race, color, ancestry, national origin, citizenship status, religion, age, marital status (including civil unions), military service, veteran status, pregnancy (including childbirth and related medical conditions), genetic information, sexual orientation, gender identity, legally recognized disability, domestic violence victim status, or any other characteristic protected by law. \\n \\n Job Requisition: 363280_external_USA-PA-Stowe \\n \\n Required \\n \\n Preferred \\n \\n Job Industries \\n \\n Other \\n \\n Full Time\"),\n",
       " ('pt meat associate pottstown pa',\n",
       "  '19464',\n",
       "  \"Address: USA-PA-Pottstown-86 Glocker Way \\n Store Code: GC - Store Mgrs (2600498) \\n \\n At The GIANT Company we're committed to making our stores and facilities better every day for our team members, customers, and communities. It's our secret recipe for success and it guides everything we do. We put our customers first, do what's right, win together, and make ideas happen. As a team member here, that's exactly what you'll help us do. You'll share your ideas, learn new skills, and really make a difference for not only your team, but for your customers and your community. \\n \\n PRIMARY PURPOSE \\n \\n At The GIANT Company, we are passionate about building strong families and healthy communities, serving millions of neighbors across Pennsylvania, Maryland, Virginia, West Virginia, and New Jersey. We are committed to being an inclusive place to work and shop. Our shared values of care, courage, integrity, teamwork, and humor guide our work as we embrace the unique talents and differences of every team member. We also take pride in connecting families for a better future. If you're ready for a purposeful career, join our GIANT family. You'll help us make a difference while making some great connections and friendships along the way. \\n The primary purpose of this job is to help customers and assist in product receiving, inventory and storage, price, stock, and rotate product, and maintain safety and sanitation standards in all meat product areas. \\n \\n DUTIES AND RESPONSIBILITIES \\n \\n * Receive deliveries, breakdown loads, and rotate cooler. \\n * Weigh, price, and label. \\n * Stock cases and selecting product. \\n * Prepare valued-added products. \\n * Provide exemplary customer service. \\n * Product knowledge and suggestive selling. \\n * Responsible for sanitation and food safety standards. \\n * Perform other tasks as assigned by management. \\n * Process cuts for service counter or special orders. \\n * Set service case. \\n \\n QUALIFICATIONS \\n \\n * Must be authorized to work in the U.S. \\n * Must be able to read, communicate, and understand company policies and safety regulations in order to complete job duties in a satisfactory manner. \\n * Must meet the ergonomic and physical requirements, as well as the physical base scores for this position, with or without reasonable accommodation. \\n * Must be able to use, or learn to use, the equipment and tools used to perform this job. \\n * Must be able to work in a cold environment. \\n \\n PHYSICAL REQUIREMENTS \\n \\n *Shift hours: minimum 4-hour shifts or more depending upon business needs \\n *Job cycles: continual max \\n *Lift/carry: 50 lbs. \\n *Stand 55%, sit 0%, walk 45% \\n *Category IV: Lifting, carrying, P/P up to 50 lbs. \\n *Max pull static: 20 lbs. \\n \\n The GIANT Company is an equal opportunity employer. We comply with all applicable federal, state, and local laws. Qualified applicants are considered without regard to sex, race, color, ancestry, national origin, citizenship status, religion, age, marital status (including civil unions), military service, veteran status, pregnancy (including childbirth and related medical conditions), genetic information, sexual orientation, gender identity, legally recognized disability, domestic violence victim status, or any other characteristic protected by law. \\n \\n Job Requisition: 297678_external_USA-PA-Pottstown \\n \\n Required \\n \\n Preferred \\n \\n Job Industries \\n \\n Other \\n \\n Full Time\")]"
      ]
     },
     "execution_count": 6,
     "metadata": {},
     "output_type": "execute_result"
    }
   ],
   "source": [
    "conn = get_connection()\n",
    "cursor = conn.cursor()\n",
    "\n",
    "cursor.execute(\"\"\"\n",
    "SELECT jobtitle_normalized, finalzipcode, jobdesc_clean from jobs_processed where lid IN ('a276e9c7623d84146f37f879babfbc98','e6fb2c5c1b9eb7a6ef5b29f6d7b2aa29')\n",
    "\"\"\")\n",
    "\n",
    "cursor.fetchall()"
   ]
  },
  {
   "cell_type": "markdown",
   "id": "029fda58",
   "metadata": {},
   "source": [
    "### Incorrect Duplicate example 2\n",
    "1. With location filtering (including NULL)\n",
    "2. Heirarchial Similarity Search\n",
    "3. Theshold: 0.9\n",
    "\n",
    "Better but still permissive. The jobs are similar, with the only difference between the locations. Unfortunately the location fields did not capture this difference and our threshold was low enough to allow the slight difference in job titles to be classified as duplicates"
   ]
  },
  {
   "cell_type": "code",
   "execution_count": 11,
   "id": "43dc1c0d",
   "metadata": {},
   "outputs": [
    {
     "data": {
      "text/plain": [
       "[('family practice travel md winchester ky 1540937 excellent benefits 2025 01 05',\n",
       "  '40506',\n",
       "  '\\n          LocumJobsOnline is working with The Inline Group to find a qualified Family Practice MD in Winchester, Kentucky, 40391! About The Position Sterling Health Solutions - Full Time  through Friday Employed New Graduates Welcome to Apply Average Patients seen: 20 daily Call Schedule: None Loan Repayment Sign-On Bonus: $20000 Compensation: - Starting Salary: $215,000 - Bonus Potential: $30,000 Benefits: - Eligible providers may apply for NHSC student loan repayment program HIPSA Score 19- Malpractice Premiums fully covered (Federal Tort Claim Coverage)- Eligible to receive up to $5,250 for maintenance of licensure, certification, memberships, continuing education and educational travel related expenses.- Health, Dental and Vision insurance- Prescription Drug Plan- Employer paid Life Insurance 1 times annual salary- Voluntary Life Insurance, Short term disability insurance and other voluntary plans available- Employer paid long term disability insurance- 401k retirement savings plan with 4% employer match- Performance based incentive plans- FSA for healthcare and childcare- HSA- 8 paid holidays per year (includes 2 floating holidays)- Great work/life balance with 16 Paid Time Off (PTO & CME) for the first 2 years of employment additional with more years of servicePaid Extended Illness Bank (EIB)- Bereavement Leave- Paid Jury Duty- Child Care Reimbursement Additional Info: Required:- M.D. or D.O. degree from an accredited medical school- Active Unrestricted Kentucky Medical License - Board Certified or Board Eligible in a primary care specialty- Current training in basic life support (CPR)- Able to provide health care in a sensitive manner to persons of all economic levels and cultural backgrounds.- Able to examine, diagnose, and treat clients of all ages independently.- EMR: Athena  1540937EXPPLAT About The Inline Group The Inline Group connects healthcare organizations to top-quality, pre-screened provider talent—physicians, specialists, and nurses—on a subscription basis. We pair advanced technology with white-glove service in a cost-effective, customized solution for health systems, hospitals, clinics, and private practices.\\n        '),\n",
       " ('family practice travel md carlisle ky 1540938 excellent benefits 2025 01 05',\n",
       "  '40506',\n",
       "  '\\n          LocumJobsOnline is working with The Inline Group to find a qualified Family Practice MD in Carlisle, Kentucky, 40311! About The Position Sterling Health Solutions - Full Time  through Friday Employed New Graduates Welcome to Apply Average Patients seen: 20 daily Call Schedule: None Loan Repayment Sign-On Bonus: $20000 Compensation: - Starting Salary: $215,000- Bonus Potential: $30,000 Benefits: - Eligible providers may apply for NHSC student loan repayment program HIPSA Score 19- Malpractice Premiums fully covered (Federal Tort Claim Coverage)- Eligible to receive up to $5,250 for maintenance of licensure, certification, memberships, continuing education and educational travel related expenses.- Health, Dental and Vision insurance- Prescription Drug Plan- Employer paid Life Insurance 1 times annual salary- Voluntary Life Insurance, Short term disability insurance and other voluntary plans available- Employer paid long term disability insurance- 401k retirement savings plan with 4% employer match- Performance based incentive plans- FSA for healthcare and childcare- HSA- 8 paid holidays per year (includes 2 floating holidays)- Great work/life balance with 16 Paid Time Off (PTO & CME) for the first 2 years of employment additional with more years of servicePaid Extended Illness Bank (EIB)- Bereavement Leave- Paid Jury Duty- Child Care Reimbursement Additional Info: Required:- M.D. or D.O. degree from an accredited medical school- Active Unrestricted Kentucky Medical License - Board Certified or Board Eligible in a primary care specialty- Current training in basic life support (CPR)- Able to provide health care in a sensitive manner to persons of all economic levels and cultural backgrounds.- Able to examine, diagnose, and treat clients of all ages independently.- EMR: Athena  1540938EXPPLAT About The Inline Group The Inline Group connects healthcare organizations to top-quality, pre-screened provider talent—physicians, specialists, and nurses—on a subscription basis. We pair advanced technology with white-glove service in a cost-effective, customized solution for health systems, hospitals, clinics, and private practices.\\n        ')]"
      ]
     },
     "execution_count": 11,
     "metadata": {},
     "output_type": "execute_result"
    }
   ],
   "source": [
    "conn = get_connection()\n",
    "cursor = conn.cursor()\n",
    "\n",
    "cursor.execute(\"\"\"\n",
    "SELECT jobtitle_normalized, finalzipcode, jobdesc_clean from jobs_processed where lid IN ('53275908b0edeb804c5227e4991ceb95','348495dc429974d7a39daae8c450907f')\n",
    "\"\"\")\n",
    "\n",
    "cursor.fetchall()"
   ]
  },
  {
   "cell_type": "markdown",
   "id": "6a6711c8",
   "metadata": {},
   "source": [
    "### Correct Duplicate Identifcation example\n",
    "1. With location filtering (including NULL)\n",
    "2. Heirarchial Similarity Search\n",
    "3. Threshold: 0.95\n",
    "\n",
    "Identified reworded job as duplicate!\n",
    "\n",
    "At a relatively high threshold and filtering on job title first allows us to capture the subtle differences (and similarities) between the jobs"
   ]
  },
  {
   "cell_type": "code",
   "execution_count": 14,
   "id": "f256edc2",
   "metadata": {},
   "outputs": [
    {
     "data": {
      "text/plain": [
       "[('icu critical care travel rn marrero la 26641098 excellent benefits 2025 01 05',\n",
       "  '70073',\n",
       "  \"\\n          TravelNurseSource is working with Trustaff to find a qualified ICU/Critical Care RN in Marrero, Louisiana, 70072! About The Position About this job As an ICU RN, you'll provide hands-on care for critically ill patients. Intensive Care nurses must be able to assess, plan, and implement care strategies for patients who may suffer from a variety of complex health conditions, but all of whom need round-the-clock attention. Qualifications 1-2 years recent experience in the job's primary area of care Active license or appropriate accreditation in one of the 50 US states Additional requirements & certifications as may be requested by the specificfacility/unit An enthusiastic, adventurous spirit with a desire to help Covid-19 Vaccine Required 26641098EXPPLAT About Trustaff Let Trustaff find your next adventure. Since 2002, Trustaff has matched skilled healthcare professionals with great-paying positions at the best facilities across the country. With outstanding benefits, great pay, and dedicated, personal service, it’s easy to see why healthcare professionals nationwide trust Trustaff to accelerate their careers! Jobs You Want, Benefits You Deserve, People Who Care. Traveling is more than just a job; it's an experience. When you're out in an unfamiliar location, away from family and friends, it makes a big difference to have someone on your side who knows the ins and outs of the business. We treat each healthcare professional as an individual. We develop a personal, longstanding relationship that continues throughout the assignment and years into the future.  Industry-leading pay  Great job selection—you get instant access to hundreds of jobs in all 50 states  Early access to Trustaff exclusive opportunities  Guaranteed weekly hours  Clinical Liaison support available 24/7  Non-Profit Housing Department  Comprehensive benefits packages, including Medical Insurance options starting at only $23/week!  401k with employer match  Licensure reimbursement  Earn bonuses including referral bonuses up to $1,500!  Employee discount program—save on housing, scrubs, movie tickets, and much more Our Reputation Speaks Volumes Accredited by The Joint Commission with the Gold Seal of Approval for excellence in healthcare staffing Distinguished 11 times by Inc. Magazine as one of the INC 5000 fastest-growing privately held companies in the country (2007-2009, 2011-2018) Named to Staffing Industry Analysts Largest Staffing Firms in the US (2015-2020), Largest Travel Nurse Staffing Firms (2015-2020), Largest Allied Staffing Firms (2016-2020), Largest Healthcare Staffing Firms (2015-2020), and Fastest Growing Staffing Firms in the US (2016-2019), Named to the Deloitte Cincinnati USA 100, recognizing record-setting regional companies (2014-2020) Recognized as one of the largest and fastest-growing recruiting and staffing firms in the Tri-State by the Cincinnati Business Courier (2007-2019) REDI James A. Wuenker Growth award winner\\n        \"),\n",
       " ('travel rn icu critical care marrero la 01 05 25 excellent benefits 2025 01 05',\n",
       "  '70073',\n",
       "  \"\\n          TravelNurseSource is working with Trustaff to find a qualified ICU/Critical Care RN in Marrero, Louisiana, 70072! About The Position About this job As an ICU RN, you'll provide hands-on care for critically ill patients. Intensive Care nurses must be able to assess, plan, and implement care strategies for patients who may suffer from a variety of complex health conditions, but all of whom need round-the-clock attention. Qualifications 1-2 years recent experience in the job's primary area of care Active license or appropriate accreditation in one of the 50 US states Additional requirements & certifications as may be requested by the specificfacility/unit An enthusiastic, adventurous spirit with a desire to help Covid-19 Vaccine Required 26641098EXPTEMP 5 Benefits Of Travel Nursing Develop strong problem-solving skills and self-reliance as you navigate new environments independently. This independence is not only professionally empowering but also personally fulfilling. Some travel nursing agencies provide opportunities for continuing education, allowing you to expand your knowledge base and stay updated on the latest advancements in healthcare. Travel nurses can bring fresh perspectives to healthcare facilities, contributing ideas and insights that may lead to improvements in patient care, safety, and overall healthcare quality. Travel nursing encourages self-reliance and independence. Managing your assignments, travel logistics, and personal well-being in new locations enhances your ability to thrive in diverse circumstances. Working in various healthcare settings exposes you to different patient populations, diseases, and treatment methods. This exposure enhances your ability to adapt and learn, making you a more versatile and knowledgeable healthcare professional. \\n\")]"
      ]
     },
     "execution_count": 14,
     "metadata": {},
     "output_type": "execute_result"
    }
   ],
   "source": [
    "conn = get_connection()\n",
    "cursor = conn.cursor()\n",
    "\n",
    "\n",
    "cursor.execute(\"\"\"\n",
    "SELECT jobtitle_normalized, finalzipcode, jobdesc_clean from jobs_processed where lid IN ('3e0876b777d85da96b9f5dbb726526b0','ed707970eee7ca9cd939faf97140f63f')\n",
    "\"\"\")\n",
    "\n",
    "cursor.fetchall()"
   ]
  },
  {
   "cell_type": "code",
   "execution_count": 16,
   "id": "c831cfdd",
   "metadata": {},
   "outputs": [
    {
     "name": "stderr",
     "output_type": "stream",
     "text": [
      "/tmp/ipykernel_185278/664752144.py:2: UserWarning: pandas only supports SQLAlchemy connectable (engine/connection) or database string URI or sqlite3 DBAPI2 connection. Other DBAPI2 objects are not tested. Please consider using SQLAlchemy.\n",
      "  df = pd.read_sql(query, conn)\n"
     ]
    }
   ],
   "source": [
    "query = \"SELECT * FROM job_duplicates\"\n",
    "df = pd.read_sql(query, conn)"
   ]
  },
  {
   "cell_type": "code",
   "execution_count": 20,
   "id": "dff4f51f",
   "metadata": {},
   "outputs": [
    {
     "data": {
      "text/html": [
       "<div>\n",
       "<style scoped>\n",
       "    .dataframe tbody tr th:only-of-type {\n",
       "        vertical-align: middle;\n",
       "    }\n",
       "\n",
       "    .dataframe tbody tr th {\n",
       "        vertical-align: top;\n",
       "    }\n",
       "\n",
       "    .dataframe thead th {\n",
       "        text-align: right;\n",
       "    }\n",
       "</style>\n",
       "<table border=\"1\" class=\"dataframe\">\n",
       "  <thead>\n",
       "    <tr style=\"text-align: right;\">\n",
       "      <th></th>\n",
       "      <th>Job ID 1</th>\n",
       "      <th>Job ID 2</th>\n",
       "      <th>similarity_score</th>\n",
       "      <th>created_at</th>\n",
       "    </tr>\n",
       "  </thead>\n",
       "  <tbody>\n",
       "    <tr>\n",
       "      <th>0</th>\n",
       "      <td>9323099c599e3ffb7d0e2b7874c09cfb</td>\n",
       "      <td>ac2177b2cc692134d430051b0a24a28d</td>\n",
       "      <td>1.000000</td>\n",
       "      <td>2025-04-19 09:14:04.898501</td>\n",
       "    </tr>\n",
       "    <tr>\n",
       "      <th>1</th>\n",
       "      <td>6eeeaa63a4589a6d1df907cb287b9c1f</td>\n",
       "      <td>3617fb941aa5068000463f933507caab</td>\n",
       "      <td>1.000000</td>\n",
       "      <td>2025-04-19 09:14:04.898501</td>\n",
       "    </tr>\n",
       "    <tr>\n",
       "      <th>2</th>\n",
       "      <td>ece005e17da4eed06e4e7012a1efdaf8</td>\n",
       "      <td>e552ab08b3d5b9b8318faafa98a582aa</td>\n",
       "      <td>1.000000</td>\n",
       "      <td>2025-04-19 09:14:04.898501</td>\n",
       "    </tr>\n",
       "    <tr>\n",
       "      <th>3</th>\n",
       "      <td>4e712bc635beea5d98ddeff262096b33</td>\n",
       "      <td>51dd2f15052daebe841808385f6015cc</td>\n",
       "      <td>1.000000</td>\n",
       "      <td>2025-04-19 09:14:04.898501</td>\n",
       "    </tr>\n",
       "    <tr>\n",
       "      <th>4</th>\n",
       "      <td>4e712bc635beea5d98ddeff262096b33</td>\n",
       "      <td>e3d173b7bdfff64ea3c1e307b1d53edd</td>\n",
       "      <td>1.000000</td>\n",
       "      <td>2025-04-19 09:14:04.898501</td>\n",
       "    </tr>\n",
       "    <tr>\n",
       "      <th>...</th>\n",
       "      <td>...</td>\n",
       "      <td>...</td>\n",
       "      <td>...</td>\n",
       "      <td>...</td>\n",
       "    </tr>\n",
       "    <tr>\n",
       "      <th>37671</th>\n",
       "      <td>99e6690bba74e476d915a6ccc2071ca7</td>\n",
       "      <td>b5f8b8a87d463ac315b0bddc0cb27bb2</td>\n",
       "      <td>0.999699</td>\n",
       "      <td>2025-04-19 09:14:04.898501</td>\n",
       "    </tr>\n",
       "    <tr>\n",
       "      <th>37672</th>\n",
       "      <td>99e6690bba74e476d915a6ccc2071ca7</td>\n",
       "      <td>6c27d3fc797a74cc3b49b6cdb812413b</td>\n",
       "      <td>0.999699</td>\n",
       "      <td>2025-04-19 09:14:04.898501</td>\n",
       "    </tr>\n",
       "    <tr>\n",
       "      <th>37673</th>\n",
       "      <td>6519d0e6ed84d3e5a28c34907714a939</td>\n",
       "      <td>6090dcb2dd8d977b58cd7e5fa9133fb2</td>\n",
       "      <td>1.000000</td>\n",
       "      <td>2025-04-19 09:14:04.898501</td>\n",
       "    </tr>\n",
       "    <tr>\n",
       "      <th>37674</th>\n",
       "      <td>829f02f266e7affdd4057800889374b1</td>\n",
       "      <td>d48fa3da276eb1c459f8084859cd6e86</td>\n",
       "      <td>0.993269</td>\n",
       "      <td>2025-04-19 09:14:04.898501</td>\n",
       "    </tr>\n",
       "    <tr>\n",
       "      <th>37675</th>\n",
       "      <td>829f02f266e7affdd4057800889374b1</td>\n",
       "      <td>fcb3b7e7c8b130fe53033c9778a17324</td>\n",
       "      <td>0.992958</td>\n",
       "      <td>2025-04-19 09:14:04.898501</td>\n",
       "    </tr>\n",
       "  </tbody>\n",
       "</table>\n",
       "<p>37676 rows × 4 columns</p>\n",
       "</div>"
      ],
      "text/plain": [
       "                               Job ID 1                          Job ID 2  \\\n",
       "0      9323099c599e3ffb7d0e2b7874c09cfb  ac2177b2cc692134d430051b0a24a28d   \n",
       "1      6eeeaa63a4589a6d1df907cb287b9c1f  3617fb941aa5068000463f933507caab   \n",
       "2      ece005e17da4eed06e4e7012a1efdaf8  e552ab08b3d5b9b8318faafa98a582aa   \n",
       "3      4e712bc635beea5d98ddeff262096b33  51dd2f15052daebe841808385f6015cc   \n",
       "4      4e712bc635beea5d98ddeff262096b33  e3d173b7bdfff64ea3c1e307b1d53edd   \n",
       "...                                 ...                               ...   \n",
       "37671  99e6690bba74e476d915a6ccc2071ca7  b5f8b8a87d463ac315b0bddc0cb27bb2   \n",
       "37672  99e6690bba74e476d915a6ccc2071ca7  6c27d3fc797a74cc3b49b6cdb812413b   \n",
       "37673  6519d0e6ed84d3e5a28c34907714a939  6090dcb2dd8d977b58cd7e5fa9133fb2   \n",
       "37674  829f02f266e7affdd4057800889374b1  d48fa3da276eb1c459f8084859cd6e86   \n",
       "37675  829f02f266e7affdd4057800889374b1  fcb3b7e7c8b130fe53033c9778a17324   \n",
       "\n",
       "       similarity_score                 created_at  \n",
       "0              1.000000 2025-04-19 09:14:04.898501  \n",
       "1              1.000000 2025-04-19 09:14:04.898501  \n",
       "2              1.000000 2025-04-19 09:14:04.898501  \n",
       "3              1.000000 2025-04-19 09:14:04.898501  \n",
       "4              1.000000 2025-04-19 09:14:04.898501  \n",
       "...                 ...                        ...  \n",
       "37671          0.999699 2025-04-19 09:14:04.898501  \n",
       "37672          0.999699 2025-04-19 09:14:04.898501  \n",
       "37673          1.000000 2025-04-19 09:14:04.898501  \n",
       "37674          0.993269 2025-04-19 09:14:04.898501  \n",
       "37675          0.992958 2025-04-19 09:14:04.898501  \n",
       "\n",
       "[37676 rows x 4 columns]"
      ]
     },
     "execution_count": 20,
     "metadata": {},
     "output_type": "execute_result"
    }
   ],
   "source": [
    "df = df.rename(columns={\"lid1\": \"Job ID 1\", \"lid2\": \"Job ID 2\"})\n",
    "df"
   ]
  },
  {
   "cell_type": "code",
   "execution_count": 21,
   "id": "14fde653",
   "metadata": {},
   "outputs": [],
   "source": [
    "df.drop(columns=\"created_at\").to_csv(DATA_DIR / \"final_output.csv\", index=False)"
   ]
  },
  {
   "cell_type": "code",
   "execution_count": null,
   "id": "1291c261",
   "metadata": {},
   "outputs": [],
   "source": [
    "release_connection(conn)"
   ]
  }
 ],
 "metadata": {
  "kernelspec": {
   "display_name": ".venv",
   "language": "python",
   "name": "python3"
  },
  "language_info": {
   "codemirror_mode": {
    "name": "ipython",
    "version": 3
   },
   "file_extension": ".py",
   "mimetype": "text/x-python",
   "name": "python",
   "nbconvert_exporter": "python",
   "pygments_lexer": "ipython3",
   "version": "3.12.3"
  }
 },
 "nbformat": 4,
 "nbformat_minor": 5
}
