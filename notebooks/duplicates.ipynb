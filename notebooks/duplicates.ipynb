{
 "cells": [
  {
   "cell_type": "code",
   "execution_count": 1,
   "id": "4d877bf6",
   "metadata": {},
   "outputs": [
    {
     "name": "stderr",
     "output_type": "stream",
     "text": [
      "\u001b[32m2025-04-19 00:04:39.902\u001b[0m | \u001b[1mINFO    \u001b[0m | \u001b[36msrc.config\u001b[0m:\u001b[36m<module>\u001b[0m:\u001b[36m11\u001b[0m - \u001b[1mPROJ_ROOT path is: /home/harshavardhan-patil/Work/Projects/canaria/canaria_ml_thp\u001b[0m\n"
     ]
    },
    {
     "name": "stderr",
     "output_type": "stream",
     "text": [
      "/home/harshavardhan-patil/Work/Projects/canaria/canaria_ml_thp/.venv/lib/python3.12/site-packages/tqdm/auto.py:21: TqdmWarning: IProgress not found. Please update jupyter and ipywidgets. See https://ipywidgets.readthedocs.io/en/stable/user_install.html\n",
      "  from .autonotebook import tqdm as notebook_tqdm\n"
     ]
    },
    {
     "data": {
      "text/plain": [
       "True"
      ]
     },
     "execution_count": 1,
     "metadata": {},
     "output_type": "execute_result"
    }
   ],
   "source": [
    "from src.vector_search import VectorSearch\n",
    "import argparse\n",
    "import logging\n",
    "import os\n",
    "from typing import List, Tuple\n",
    "import pandas as pd\n",
    "import numpy as np\n",
    "from dotenv import load_dotenv\n",
    "from src.data.db import get_connection, release_connection\n",
    "from src.config import DATA_DIR\n",
    "\n",
    "load_dotenv()"
   ]
  },
  {
   "cell_type": "markdown",
   "id": "2d2938e5",
   "metadata": {},
   "source": [
    "### Incorrect Duplicate example\n",
    "With location filtering (including NULL)\n",
    "Similarity Search on combined string of Job title, Company Name, Job Descriptions\n",
    "Total 38k duplicates found at 0.824 threshold. Too permissive!"
   ]
  },
  {
   "cell_type": "code",
   "execution_count": 6,
   "id": "6e3f65d6",
   "metadata": {},
   "outputs": [
    {
     "data": {
      "text/plain": [
       "[('pt service associate',\n",
       "  '19464',\n",
       "  \"Address: USA-PA-Stowe-180 Upland Square Drive \\n Store Code: GC - Store Mgrs (2600291) \\n \\n At The GIANT Company we're committed to making our stores and facilities better every day for our team members, customers, and communities. It's our secret recipe for success and it guides everything we do. We put our customers first, do what's right, win together, and make ideas happen. As a team member here, that's exactly what you'll help us do. You'll share your ideas, learn new skills, and really make a difference for not only your team, but for your customers and your community. \\n \\n PRIMARY PURPOSE \\n \\n The primary purpose of this job is to bag items at checkout, put bags into carts, restock returns, retrieve carts from the parking lot, vacuum front-end, restock coolers, and collect trash. \\n At The GIANT Company, we are passionate about building strong families and healthy communities, serving millions of neighbors across Pennsylvania, Maryland, Virginia, West Virginia, and New Jersey. We are committed to being an inclusive place to work and shop. Our shared values of care, courage, integrity, teamwork, and humor guide our work as we embrace the unique talents and differences of every team member. We also take pride in connecting families for a better future. If you're ready for a purposeful career, join our GIANT family. You'll help us make a difference while making some great connections and friendships along the way. \\n \\n DUTIES AND RESPONSIBILITIES \\n \\n * Promptly, at the start of the shift, the employee will review the work schedule, check the equipment and supplies required to perform the work scheduled, comply with Personal Protective Equipment (PPE) requirements, and otherwise prepare for duties. \\n * Collect trash, take trash to compactor, and operate the compactor. \\n * Perform housekeeping duties, keep floors clean, keep work areas clean, and perform clean sweep every hour. \\n * Collect carts, stack carts, and push carts back to the front-end of the store. \\n * Demonstrate good customer service skills. \\n * Complete other duties as assigned by management. \\n \\n QUALIFICATIONS \\n \\n * Must be authorized to work in the U.S. \\n * Must be able to communicate and understand company policies and safety regulations in order to complete job duties in a satisfactory manner. \\n * Must meet the ergonomic and physical requirements, as well as the physical base scores for this position, with or without reasonable accommodation. \\n * Must be able to use, or learn to use, the equipment and tools used to perform this job. \\n * Must meet the company performance standards for the job including but not limited to regular attendance. \\n * Must complete the company introductory (probationary) period of 30 or 60 days. \\n * Must be able to perform all job functions safely. \\n * Must meet the company performance standards for the job. \\n * Must agree to wear the proper assigned clothes and shoes approved for this job. \\n * Must have and maintain valid specialty licenses, certificates, or permits required for the position. \\n \\n PHYSICAL REQUIREMENTS \\n \\n * Shift hours: minimum 4-hour shifts or more depending upon business needs \\n * Job cycles: continual max \\n * Lift/carry: 50 lbs. \\n * Stand 55%, sit 0%, walk 45% \\n * Category IV: lifting, carrying, P/P up to 50 lbs. \\n * Max pull static: 20 lbs. \\n \\n PREFERRED REQUIREMENTS \\n \\n * Team members are responsible for understanding company policy and procedures as promulgated in the policy and procedure manual and the team member handbook. \\n \\n The GIANT Company is an equal opportunity employer. We comply with all applicable federal, state, and local laws. Qualified applicants are considered without regard to sex, race, color, ancestry, national origin, citizenship status, religion, age, marital status (including civil unions), military service, veteran status, pregnancy (including childbirth and related medical conditions), genetic information, sexual orientation, gender identity, legally recognized disability, domestic violence victim status, or any other characteristic protected by law. \\n \\n Job Requisition: 363280_external_USA-PA-Stowe \\n \\n Required \\n \\n Preferred \\n \\n Job Industries \\n \\n Other \\n \\n Full Time\"),\n",
       " ('pt meat associate pottstown pa',\n",
       "  '19464',\n",
       "  \"Address: USA-PA-Pottstown-86 Glocker Way \\n Store Code: GC - Store Mgrs (2600498) \\n \\n At The GIANT Company we're committed to making our stores and facilities better every day for our team members, customers, and communities. It's our secret recipe for success and it guides everything we do. We put our customers first, do what's right, win together, and make ideas happen. As a team member here, that's exactly what you'll help us do. You'll share your ideas, learn new skills, and really make a difference for not only your team, but for your customers and your community. \\n \\n PRIMARY PURPOSE \\n \\n At The GIANT Company, we are passionate about building strong families and healthy communities, serving millions of neighbors across Pennsylvania, Maryland, Virginia, West Virginia, and New Jersey. We are committed to being an inclusive place to work and shop. Our shared values of care, courage, integrity, teamwork, and humor guide our work as we embrace the unique talents and differences of every team member. We also take pride in connecting families for a better future. If you're ready for a purposeful career, join our GIANT family. You'll help us make a difference while making some great connections and friendships along the way. \\n The primary purpose of this job is to help customers and assist in product receiving, inventory and storage, price, stock, and rotate product, and maintain safety and sanitation standards in all meat product areas. \\n \\n DUTIES AND RESPONSIBILITIES \\n \\n * Receive deliveries, breakdown loads, and rotate cooler. \\n * Weigh, price, and label. \\n * Stock cases and selecting product. \\n * Prepare valued-added products. \\n * Provide exemplary customer service. \\n * Product knowledge and suggestive selling. \\n * Responsible for sanitation and food safety standards. \\n * Perform other tasks as assigned by management. \\n * Process cuts for service counter or special orders. \\n * Set service case. \\n \\n QUALIFICATIONS \\n \\n * Must be authorized to work in the U.S. \\n * Must be able to read, communicate, and understand company policies and safety regulations in order to complete job duties in a satisfactory manner. \\n * Must meet the ergonomic and physical requirements, as well as the physical base scores for this position, with or without reasonable accommodation. \\n * Must be able to use, or learn to use, the equipment and tools used to perform this job. \\n * Must be able to work in a cold environment. \\n \\n PHYSICAL REQUIREMENTS \\n \\n *Shift hours: minimum 4-hour shifts or more depending upon business needs \\n *Job cycles: continual max \\n *Lift/carry: 50 lbs. \\n *Stand 55%, sit 0%, walk 45% \\n *Category IV: Lifting, carrying, P/P up to 50 lbs. \\n *Max pull static: 20 lbs. \\n \\n The GIANT Company is an equal opportunity employer. We comply with all applicable federal, state, and local laws. Qualified applicants are considered without regard to sex, race, color, ancestry, national origin, citizenship status, religion, age, marital status (including civil unions), military service, veteran status, pregnancy (including childbirth and related medical conditions), genetic information, sexual orientation, gender identity, legally recognized disability, domestic violence victim status, or any other characteristic protected by law. \\n \\n Job Requisition: 297678_external_USA-PA-Pottstown \\n \\n Required \\n \\n Preferred \\n \\n Job Industries \\n \\n Other \\n \\n Full Time\")]"
      ]
     },
     "execution_count": 6,
     "metadata": {},
     "output_type": "execute_result"
    }
   ],
   "source": [
    "conn = get_connection()\n",
    "cursor = conn.cursor()\n",
    "\n",
    "cursor.execute(\"\"\"\n",
    "SELECT jobtitle_normalized, finalzipcode, jobdesc_clean from jobs_processed where lid IN ('a276e9c7623d84146f37f879babfbc98','e6fb2c5c1b9eb7a6ef5b29f6d7b2aa29')\n",
    "\"\"\")\n",
    "\n",
    "cursor.fetchall()"
   ]
  }
 ],
 "metadata": {
  "kernelspec": {
   "display_name": ".venv",
   "language": "python",
   "name": "python3"
  },
  "language_info": {
   "codemirror_mode": {
    "name": "ipython",
    "version": 3
   },
   "file_extension": ".py",
   "mimetype": "text/x-python",
   "name": "python",
   "nbconvert_exporter": "python",
   "pygments_lexer": "ipython3",
   "version": "3.12.3"
  }
 },
 "nbformat": 4,
 "nbformat_minor": 5
}
